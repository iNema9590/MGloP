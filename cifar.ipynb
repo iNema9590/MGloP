{
 "cells": [
  {
   "cell_type": "code",
   "execution_count": 1,
   "metadata": {},
   "outputs": [
    {
     "name": "stderr",
     "output_type": "stream",
     "text": [
      "/tmp/ipykernel_750852/3061298830.py:18: FutureWarning: You are using `torch.load` with `weights_only=False` (the current default value), which uses the default pickle module implicitly. It is possible to construct malicious pickle data which will execute arbitrary code during unpickling (See https://github.com/pytorch/pytorch/blob/main/SECURITY.md#untrusted-models for more details). In a future release, the default value for `weights_only` will be flipped to `True`. This limits the functions that could be executed during unpickling. Arbitrary objects will no longer be allowed to be loaded via this mode unless they are explicitly allowlisted by the user via `torch.serialization.add_safe_globals`. We recommend you start setting `weights_only=True` for any use case where you don't have full control of the loaded file. Please open an issue on GitHub for any issues related to this experimental feature.\n",
      "  model.load_state_dict(torch.load('data/main_model.pth'))\n",
      "/tmp/ipykernel_750852/3061298830.py:21: FutureWarning: You are using `torch.load` with `weights_only=False` (the current default value), which uses the default pickle module implicitly. It is possible to construct malicious pickle data which will execute arbitrary code during unpickling (See https://github.com/pytorch/pytorch/blob/main/SECURITY.md#untrusted-models for more details). In a future release, the default value for `weights_only` will be flipped to `True`. This limits the functions that could be executed during unpickling. Arbitrary objects will no longer be allowed to be loaded via this mode unless they are explicitly allowlisted by the user via `torch.serialization.add_safe_globals`. We recommend you start setting `weights_only=True` for any use case where you don't have full control of the loaded file. Please open an issue on GitHub for any issues related to this experimental feature.\n",
      "  dmem=torch.load('data/embeds_DM.pt')\n",
      "/tmp/ipykernel_750852/3061298830.py:24: FutureWarning: You are using `torch.load` with `weights_only=False` (the current default value), which uses the default pickle module implicitly. It is possible to construct malicious pickle data which will execute arbitrary code during unpickling (See https://github.com/pytorch/pytorch/blob/main/SECURITY.md#untrusted-models for more details). In a future release, the default value for `weights_only` will be flipped to `True`. This limits the functions that could be executed during unpickling. Arbitrary objects will no longer be allowed to be loaded via this mode unless they are explicitly allowlisted by the user via `torch.serialization.add_safe_globals`. We recommend you start setting `weights_only=True` for any use case where you don't have full control of the loaded file. Please open an issue on GitHub for any issues related to this experimental feature.\n",
      "  train_embeddings = torch.load('data/train_embeddings.pt')\n",
      "/tmp/ipykernel_750852/3061298830.py:25: FutureWarning: You are using `torch.load` with `weights_only=False` (the current default value), which uses the default pickle module implicitly. It is possible to construct malicious pickle data which will execute arbitrary code during unpickling (See https://github.com/pytorch/pytorch/blob/main/SECURITY.md#untrusted-models for more details). In a future release, the default value for `weights_only` will be flipped to `True`. This limits the functions that could be executed during unpickling. Arbitrary objects will no longer be allowed to be loaded via this mode unless they are explicitly allowlisted by the user via `torch.serialization.add_safe_globals`. We recommend you start setting `weights_only=True` for any use case where you don't have full control of the loaded file. Please open an issue on GitHub for any issues related to this experimental feature.\n",
      "  train_labels = torch.load('data/train_labels.pt')\n",
      "/tmp/ipykernel_750852/3061298830.py:26: FutureWarning: You are using `torch.load` with `weights_only=False` (the current default value), which uses the default pickle module implicitly. It is possible to construct malicious pickle data which will execute arbitrary code during unpickling (See https://github.com/pytorch/pytorch/blob/main/SECURITY.md#untrusted-models for more details). In a future release, the default value for `weights_only` will be flipped to `True`. This limits the functions that could be executed during unpickling. Arbitrary objects will no longer be allowed to be loaded via this mode unless they are explicitly allowlisted by the user via `torch.serialization.add_safe_globals`. We recommend you start setting `weights_only=True` for any use case where you don't have full control of the loaded file. Please open an issue on GitHub for any issues related to this experimental feature.\n",
      "  test_embeddings = torch.load('data/test_embeddings.pt')\n",
      "/tmp/ipykernel_750852/3061298830.py:27: FutureWarning: You are using `torch.load` with `weights_only=False` (the current default value), which uses the default pickle module implicitly. It is possible to construct malicious pickle data which will execute arbitrary code during unpickling (See https://github.com/pytorch/pytorch/blob/main/SECURITY.md#untrusted-models for more details). In a future release, the default value for `weights_only` will be flipped to `True`. This limits the functions that could be executed during unpickling. Arbitrary objects will no longer be allowed to be loaded via this mode unless they are explicitly allowlisted by the user via `torch.serialization.add_safe_globals`. We recommend you start setting `weights_only=True` for any use case where you don't have full control of the loaded file. Please open an issue on GitHub for any issues related to this experimental feature.\n",
      "  test_labels = torch.load('data/test_labels.pt')\n"
     ]
    }
   ],
   "source": [
    "import torch\n",
    "from IF import *\n",
    "from proutils import *\n",
    "import numpy as np\n",
    "import kmedoids\n",
    "from joblib import Parallel, delayed\n",
    "from scipy.spatial.distance import cdist\n",
    "from sklearn.metrics import accuracy_score, silhouette_score\n",
    "from sklearn.metrics.pairwise import euclidean_distances\n",
    "import matplotlib.pyplot as plt\n",
    "from tqdm import tqdm\n",
    "import networkx as nx\n",
    "from aix360.algorithms.protodash import ProtodashExplainer\n",
    "from scipy.spatial.distance import cosine\n",
    "from collections import Counter\n",
    "\n",
    "model = LinearModel()\n",
    "model.load_state_dict(torch.load('data/main_model.pth'))\n",
    "model.eval()  # Set the model to evaluation mode\n",
    "ifem=np.load(\"data/influence_scores.npy\")\n",
    "dmem=torch.load('data/embeds_DM.pt')\n",
    "\n",
    "\n",
    "train_embeddings = torch.load('data/train_embeddings.pt')\n",
    "train_labels = torch.load('data/train_labels.pt')\n",
    "test_embeddings = torch.load('data/test_embeddings.pt')\n",
    "test_labels = torch.load('data/test_labels.pt')\n",
    "mod_pred=torch.argmax(model(test_embeddings), dim=1)\n",
    "\n",
    "\n",
    "def surrogate_fidelity(prototypes):\n",
    "    smodel = fit_model(test_embeddings[prototypes], mod_pred[prototypes])\n",
    "    smodel.eval()\n",
    "    with torch.no_grad():\n",
    "        outputs = torch.argmax(smodel(test_embeddings), dim=1)\n",
    "        accuracy = (outputs == mod_pred).sum().item() / len(mod_pred)          \n",
    "    return accuracy"
   ]
  },
  {
   "cell_type": "markdown",
   "metadata": {},
   "source": [
    "## Sesitivity Analysis for MGloP parameters (alpha, number of influential instances)"
   ]
  },
  {
   "cell_type": "code",
   "execution_count": null,
   "metadata": {},
   "outputs": [],
   "source": [
    "#Experiments with MGloP\n",
    "alphas=np.arange(0,1,0.1)\n",
    "mglop=Parallel(n_jobs=-1)(delayed(find_representative_samples)(test_embeddings, train_embeddings, ifem, 20,20, alpha=i) for i in tqdm(alphas))\n",
    "accs=[]\n",
    "fids=[]\n",
    "sil=[]\n",
    "sim=[]\n",
    "def compute_metrics(i):\n",
    "    acc = nearest_medoid_accuracy(test_embeddings, mod_pred, mglop[i])\n",
    "    fid=surrogate_fidelity(mglop[i])\n",
    "    sil = compute_prototype_silhouette_score(test_embeddings, mglop[i])\n",
    "    labels = cluster_by_prototypes(test_embeddings, mglop[i])\n",
    "    sim = expected_inter_cluster_similarity(test_embeddings, labels)\n",
    "    return acc,fid, sil, sim\n",
    "\n",
    "# Parallel computation\n",
    "results = Parallel(n_jobs=64)(delayed(compute_metrics)(i) for i in range(len(mglop)))\n",
    "\n",
    "# Unpack results into separate lists\n",
    "accs,fids, sil, sim = zip(*results)\n",
    "plt.plot(alphas, accs, marker='D', label='Faithfulness')\n",
    "plt.plot(alphas, fids, marker='*', label='Fidelity')\n",
    "plt.plot(alphas, sil, marker='x', label='Silhouette')\n",
    "plt.plot(alphas, sim, marker='o', label='Expected similarity')\n",
    "plt.rcParams['pdf.fonttype'] = 42\n",
    "plt.rcParams['ps.fonttype'] = 42\n",
    "plt.legend()\n",
    "plt.show()"
   ]
  },
  {
   "cell_type": "code",
   "execution_count": null,
   "metadata": {},
   "outputs": [],
   "source": [
    "#Sensitivity to the number of influential sample to build the graph with\n",
    "mglop=Parallel(n_jobs=-1)(delayed(find_representative_samples)(test_embeddings, train_embeddings, ifem,20, i, alpha=0.6) for i in tqdm(range(5,41,5)))\n",
    "accs=[]\n",
    "fids=[]\n",
    "sil=[]\n",
    "sim=[]\n",
    "def compute_metrics(i):\n",
    "    acc = nearest_medoid_accuracy(test_embeddings, mod_pred, mglop[i])\n",
    "    fid=surrogate_fidelity(mglop[i])\n",
    "    sil = compute_prototype_silhouette_score(test_embeddings, mglop[i])\n",
    "    labels = cluster_by_prototypes(test_embeddings, mglop[i])\n",
    "    sim = expected_inter_cluster_similarity(test_embeddings, labels)\n",
    "    return acc,fid, sil, sim\n",
    "\n",
    "# Parallel computation\n",
    "results = Parallel(n_jobs=64)(delayed(compute_metrics)(i) for i in range(len(mglop)))\n",
    "\n",
    "# Unpack results into separate lists\n",
    "accs,fids, sil, sim = zip(*results)\n",
    "plt.plot(range(5,41,5), accs, marker='D', label='Faithfulness')\n",
    "plt.plot(range(5,41,5), fids, marker='*', label='Fidelity')\n",
    "plt.plot(range(5,41,5), sil, marker='x', label='Silhouette')\n",
    "plt.plot(range(5,41,5), sim, marker='o', label='Expected similarity')\n",
    "plt.legend()\n",
    "plt.show()"
   ]
  },
  {
   "cell_type": "code",
   "execution_count": null,
   "metadata": {},
   "outputs": [],
   "source": []
  },
  {
   "cell_type": "code",
   "execution_count": null,
   "metadata": {},
   "outputs": [],
   "source": [
    "alphas"
   ]
  },
  {
   "cell_type": "markdown",
   "metadata": {},
   "source": [
    "#### Coverage"
   ]
  },
  {
   "cell_type": "code",
   "execution_count": null,
   "metadata": {},
   "outputs": [],
   "source": [
    "len(aideem)"
   ]
  },
  {
   "cell_type": "code",
   "execution_count": 7,
   "metadata": {},
   "outputs": [],
   "source": [
    "# aide_em=aide(ifem, train_embeddings, test_embeddings, 30, coverage=True)\n",
    "# prs=find_representative_samples(test_embeddings, train_embeddings, ifem, 20, 30, alpha=0.6)\n",
    "# distances = cosine_similarity(test_embeddings, test_embeddings[prs])\n",
    "# nearest_medoid_indices = np.argmax(distances, axis=1)\n",
    "\n",
    "def coverage(N, bin=False, popularity=True):\n",
    "    covs=[]\n",
    "    for i in tqdm(np.unique(nearest_medoid_indices)):\n",
    "        idx=np.where(nearest_medoid_indices == i)[0]\n",
    "        if popularity:\n",
    "            gx=[i[0] for i in Counter(np.array(aide_em)[idx].flatten()).most_common(60)]\n",
    "        else:\n",
    "            gx=aide_em[prs[i]]\n",
    "        for j in idx:\n",
    "            if bin:\n",
    "                if len(set(aide_em[j]).intersection(set(gx)))>N:\n",
    "                    covs.append(1)\n",
    "                else:\n",
    "                    covs.append(0)\n",
    "            else:\n",
    "                covs.append(len(set(aide_em[j]).intersection(set(gx)))/len(aide_em[j]))\n",
    "    return sum(covs)/len(covs)\n",
    "\n"
   ]
  },
  {
   "cell_type": "code",
   "execution_count": 18,
   "metadata": {},
   "outputs": [
    {
     "name": "stderr",
     "output_type": "stream",
     "text": [
      "100%|██████████| 20/20 [00:00<00:00, 173.19it/s]\n",
      "100%|██████████| 20/20 [00:00<00:00, 179.52it/s]\n",
      "100%|██████████| 20/20 [00:00<00:00, 179.27it/s]\n",
      "100%|██████████| 20/20 [00:00<00:00, 180.05it/s]\n",
      "100%|██████████| 20/20 [00:00<00:00, 178.65it/s]\n",
      "100%|██████████| 20/20 [00:00<00:00, 180.21it/s]\n",
      "100%|██████████| 20/20 [00:00<00:00, 179.99it/s]\n",
      "100%|██████████| 20/20 [00:00<00:00, 171.66it/s]\n",
      "100%|██████████| 20/20 [00:00<00:00, 180.68it/s]\n",
      "100%|██████████| 20/20 [00:00<00:00, 180.11it/s]\n",
      "100%|██████████| 20/20 [00:00<00:00, 182.21it/s]\n",
      "100%|██████████| 20/20 [00:00<00:00, 179.88it/s]\n",
      "100%|██████████| 20/20 [00:00<00:00, 180.43it/s]\n",
      "100%|██████████| 20/20 [00:00<00:00, 179.97it/s]\n",
      "100%|██████████| 20/20 [00:00<00:00, 178.29it/s]\n",
      "100%|██████████| 20/20 [00:00<00:00, 181.99it/s]\n",
      "100%|██████████| 20/20 [00:00<00:00, 181.38it/s]\n",
      "100%|██████████| 20/20 [00:00<00:00, 181.86it/s]\n",
      "100%|██████████| 20/20 [00:00<00:00, 181.23it/s]\n",
      "100%|██████████| 20/20 [00:00<00:00, 182.24it/s]\n",
      "100%|██████████| 20/20 [00:00<00:00, 180.49it/s]\n",
      "100%|██████████| 20/20 [00:00<00:00, 176.24it/s]\n",
      "100%|██████████| 20/20 [00:00<00:00, 180.90it/s]\n",
      "100%|██████████| 20/20 [00:00<00:00, 182.21it/s]\n",
      "100%|██████████| 20/20 [00:00<00:00, 183.40it/s]\n",
      "100%|██████████| 20/20 [00:00<00:00, 182.76it/s]\n",
      "100%|██████████| 20/20 [00:00<00:00, 182.43it/s]\n",
      "100%|██████████| 20/20 [00:00<00:00, 181.50it/s]\n",
      "100%|██████████| 20/20 [00:00<00:00, 182.56it/s]\n",
      "100%|██████████| 20/20 [00:00<00:00, 174.21it/s]\n",
      "100%|██████████| 20/20 [00:00<00:00, 181.66it/s]\n"
     ]
    }
   ],
   "source": [
    "covs= [coverage(i, bin=True, popularity=False) for i in range(31)]"
   ]
  },
  {
   "cell_type": "code",
   "execution_count": 19,
   "metadata": {},
   "outputs": [
    {
     "data": {
      "image/png": "[encoded data removed]",
      "text/plain": [
       "<Figure size 1200x800 with 1 Axes>"
      ]
     },
     "metadata": {},
     "output_type": "display_data"
    }
   ],
   "source": [
    "plt.figure(figsize=(12, 8))\n",
    "plt.plot(covs[1:], range(1,31))\n",
    "plt.rcParams['pdf.fonttype'] = 42\n",
    "plt.rcParams['ps.fonttype'] = 42\n",
    "plt.ylabel(\"Number of covered samples\")\n",
    "plt.xlabel(\"Percentage of cluster elements\")\n",
    "plt.title(\"Coverage in Cifar Dataset\")\n",
    "plt.grid(True)\n",
    "\n",
    "# Save the plot as a PDF\n",
    "# plt.savefig(\"Figures/intersection_plot.pdf\", format=\"pdf\")\n",
    "\n",
    "# Show the plot\n",
    "plt.show()"
   ]
  },
  {
   "cell_type": "markdown",
   "metadata": {},
   "source": [
    "## Singular experiments"
   ]
  },
  {
   "cell_type": "code",
   "execution_count": null,
   "metadata": {},
   "outputs": [],
   "source": [
    "test_embeddings.shape"
   ]
  },
  {
   "cell_type": "code",
   "execution_count": null,
   "metadata": {},
   "outputs": [],
   "source": [
    "# Protodash prototypes\n",
    "explainer= ProtodashExplainer()\n",
    "weights, protodash,_ = explainer.explain(test_embeddings, test_embeddings, m=2000, kernelType='euclid')\n",
    "protodash"
   ]
  },
  {
   "cell_type": "code",
   "execution_count": null,
   "metadata": {},
   "outputs": [],
   "source": [
    "# DeepKNN prototypes\n",
    "dknn=find_prototypes(test_embeddings, mod_pred, 20)\n",
    "dknn"
   ]
  },
  {
   "cell_type": "code",
   "execution_count": null,
   "metadata": {},
   "outputs": [],
   "source": [
    "# Datamodels Prototypes\n",
    "dmodels=find_prototypes(dmem, mod_pred, 20)\n",
    "dmodels"
   ]
  },
  {
   "cell_type": "code",
   "execution_count": null,
   "metadata": {},
   "outputs": [],
   "source": [
    "# Our approach\n",
    "mglop=find_representative_samples(test_embeddings, train_embeddings, ifem, 20)\n",
    "mglop"
   ]
  },
  {
   "cell_type": "markdown",
   "metadata": {},
   "source": [
    "## FFC experiment for all methods"
   ]
  },
  {
   "cell_type": "code",
   "execution_count": null,
   "metadata": {},
   "outputs": [],
   "source": [
    "N_values=range(10,81, 10)"
   ]
  },
  {
   "cell_type": "code",
   "execution_count": null,
   "metadata": {},
   "outputs": [],
   "source": [
    "# Generate the lists of prototypes for all methods with differen N\n",
    "\n",
    "def generate_prototypes(N):\n",
    "    explainer = ProtodashExplainer()\n",
    "    weights, protodash, _ = explainer.explain(test_embeddings, test_embeddings, m=N, kernelType='euclid')\n",
    "    \n",
    "    return {\n",
    "        \"mglop\": find_representative_samples(test_embeddings, train_embeddings, ifem, N, 35, alpha=0.6),\n",
    "        \"dknn\": find_prototypes(test_embeddings, mod_pred, N),\n",
    "        \"dm\": find_prototypes(dmem, mod_pred, N),\n",
    "        \"protodash\": protodash\n",
    "    }\n",
    "\n",
    "n_jobs = -1 \n",
    "all_protos = Parallel(n_jobs=n_jobs)(\n",
    "    delayed(generate_prototypes)(N)\n",
    "    for N in tqdm(N_values)\n",
    ")"
   ]
  },
  {
   "cell_type": "markdown",
   "metadata": {},
   "source": [
    "##### Similarity of prototypes"
   ]
  },
  {
   "cell_type": "code",
   "execution_count": null,
   "metadata": {},
   "outputs": [],
   "source": [
    "# Intersection\n",
    "\n",
    "algorithms = ['mglop', 'dknn', 'dm', 'protodash']\n",
    "N_values = range(10, 81, 10)  # Increasing N values from 10 to 80\n",
    "intersections = {f\"{algo1} ∩ {algo2}\": [] for i, algo1 in enumerate(algorithms) for algo2 in algorithms[i + 1:]}\n",
    "\n",
    "\n",
    "# Extract intersections between algorithm outputs\n",
    "for i, outputs in enumerate(all_protos):\n",
    "    for j, algo1 in enumerate(algorithms):\n",
    "        for algo2 in algorithms[j + 1:]:\n",
    "            intersection_size = len(set(outputs[algo1]) & set(outputs[algo2]))\n",
    "            intersections[f\"{algo1} ∩ {algo2}\"].append(intersection_size)\n",
    "\n",
    "# Plotting the results\n",
    "line_styles = ['-', '--', '-.', ':', '-', '--']\n",
    "markers = ['o', 's', 'D', '^', 'v', 'P']\n",
    "\n",
    "plt.figure(figsize=(12, 8))\n",
    "for (label, sizes), linestyle, marker in zip(intersections.items(), line_styles, markers):\n",
    "    plt.plot(N_values, sizes, linestyle=linestyle, marker=marker, label=label)\n",
    "\n",
    "plt.xlabel(\"Number of Prototypes (N)\")\n",
    "plt.ylabel(\"Intersection Size\")\n",
    "plt.title(\"Intersection Size vs Number of Elements (N) for Algorithm Outputs\")\n",
    "plt.rcParams['pdf.fonttype'] = 42\n",
    "plt.rcParams['ps.fonttype'] = 42\n",
    "plt.legend()\n",
    "plt.grid(True)\n",
    "\n",
    "# Save the plot as a PDF\n",
    "# plt.savefig(\"Figures/intersection_plot.pdf\", format=\"pdf\")\n",
    "\n",
    "# Show the plot\n",
    "plt.show()"
   ]
  },
  {
   "cell_type": "code",
   "execution_count": null,
   "metadata": {},
   "outputs": [],
   "source": [
    "all_protos_np=np.array(all_protos)"
   ]
  },
  {
   "cell_type": "code",
   "execution_count": null,
   "metadata": {},
   "outputs": [],
   "source": [
    "from sklearn.metrics import adjusted_rand_score\n",
    "from scipy.spatial.distance import cdist\n",
    "\n",
    "def assign_clusters(X, prototypes):\n",
    "\n",
    "    # Compute distance from each point to each prototype\n",
    "    distances = cdist(X, prototypes, metric='euclidean')\n",
    "    \n",
    "    # Assign each point to the cluster with minimum distance\n",
    "    labels = np.argmin(distances, axis=1)\n",
    "    return labels\n",
    "\n",
    "pairwise_aris = {\n",
    "    \"MGloP-DkNN\": [],\n",
    "    \"MGloP-DM\": [],\n",
    "    \"MGloP-PDash\": [],\n",
    "    \"DkNN-DM\": [],\n",
    "    \"DkNN-PDash\": [],\n",
    "    \"DM-PDash\": []\n",
    "}\n",
    "\n",
    "for i in range(len(all_protos_np)):\n",
    "    labels1 = assign_clusters(test_embeddings, test_embeddings[list(all_protos_np[i].values())[0]])\n",
    "    labels2 = assign_clusters(test_embeddings, test_embeddings[list(all_protos_np[i].values())[1]])\n",
    "    labels3 = assign_clusters(test_embeddings, test_embeddings[list(all_protos_np[i].values())[2]])\n",
    "    labels4 = assign_clusters(test_embeddings, test_embeddings[list(all_protos_np[i].values())[3]])\n",
    "    \n",
    "    \n",
    "    # Compute ARIs for all pairs\n",
    "    ari_12 = adjusted_rand_score(labels1, labels2)\n",
    "    ari_13 = adjusted_rand_score(labels1, labels3)\n",
    "    ari_14 = adjusted_rand_score(labels1, labels4)\n",
    "    ari_23 = adjusted_rand_score(labels2, labels3)\n",
    "    ari_24 = adjusted_rand_score(labels2, labels4)\n",
    "    ari_34 = adjusted_rand_score(labels3, labels4)\n",
    "    \n",
    "    # Append results\n",
    "    pairwise_aris[\"MGloP-DkNN\"].append(ari_12)\n",
    "    pairwise_aris[\"MGloP-DM\"].append(ari_13)\n",
    "    pairwise_aris[\"MGloP-PDash\"].append(ari_14)\n",
    "    pairwise_aris[\"DkNN-DM\"].append(ari_23)\n",
    "    pairwise_aris[\"DkNN-PDash\"].append(ari_24)\n",
    "    pairwise_aris[\"DM-PDash\"].append(ari_34)\n",
    "\n",
    "# Plot the ARI evolution for each pair\n",
    "plt.figure(figsize=(10, 6))\n",
    "for pair_name, ari_values in pairwise_aris.items():\n",
    "    plt.plot(N_values, ari_values, marker='o', label=pair_name)\n",
    "\n",
    "plt.title('ARI Evolution for Each Pair as Number of Prototypes Increases')\n",
    "plt.xlabel('Number of Prototypes (k)')\n",
    "plt.ylabel('ARI')\n",
    "plt.grid(True)\n",
    "plt.legend()\n",
    "plt.show()"
   ]
  },
  {
   "cell_type": "code",
   "execution_count": null,
   "metadata": {},
   "outputs": [],
   "source": [
    "np_file_path = \"plot_data/all_protos_20pos.npy\"\n",
    "np.save(np_file_path, all_protos_np)"
   ]
  },
  {
   "cell_type": "code",
   "execution_count": null,
   "metadata": {},
   "outputs": [],
   "source": [
    "all_protos_np=np.load('plot_data/all_protos_20pos.npy', allow_pickle=True)"
   ]
  },
  {
   "cell_type": "code",
   "execution_count": null,
   "metadata": {},
   "outputs": [],
   "source": [
    "# Generate data for all scores of all methods\n",
    "mglop_ev=[]\n",
    "dmodels_ev=[]\n",
    "protodash_ev=[]\n",
    "dknn_ev=[]\n",
    "for i in range(len(all_protos_np)):\n",
    "    mglop_ev.append([nearest_medoid_accuracy(test_embeddings, mod_pred, list(all_protos_np[i].values())[0]), compute_prototype_silhouette_score(test_embeddings, list(all_protos_np[i].values())[0]), surrogate_fidelity(list(all_protos_np[i].values())[0])])\n",
    "    dknn_ev.append([nearest_medoid_accuracy(test_embeddings, mod_pred, list(all_protos_np[i].values())[1]), compute_prototype_silhouette_score(test_embeddings, list(all_protos_np[i].values())[1]),surrogate_fidelity(list(all_protos_np[i].values())[1])])\n",
    "    dmodels_ev.append([nearest_medoid_accuracy(test_embeddings, mod_pred, list(all_protos_np[i].values())[2]), compute_prototype_silhouette_score(test_embeddings, list(all_protos_np[i].values())[2]), surrogate_fidelity(list(all_protos_np[i].values())[2])])\n",
    "    protodash_ev.append([nearest_medoid_accuracy(test_embeddings, mod_pred, list(all_protos_np[i].values())[3]), compute_prototype_silhouette_score(test_embeddings, list(all_protos_np[i].values())[3]), surrogate_fidelity(list(all_protos_np[i].values())[3])])\n",
    "               \n",
    "\n"
   ]
  },
  {
   "cell_type": "markdown",
   "metadata": {},
   "source": [
    "#### Faithfullnes"
   ]
  },
  {
   "cell_type": "code",
   "execution_count": null,
   "metadata": {},
   "outputs": [],
   "source": []
  },
  {
   "cell_type": "code",
   "execution_count": null,
   "metadata": {},
   "outputs": [],
   "source": [
    "N_range=range(10,81,10)\n",
    "plt.figure(figsize=(12, 8))\n",
    "plt.plot(N_range, [item[2] for item in mglop_ev], marker='o', linestyle='-', label='MGLop Accuracy')\n",
    "plt.plot(N_range, [item[2] for item in dknn_ev], marker='s', linestyle='--', label='DKNN Accuracy')\n",
    "plt.plot(N_range, [item[2] for item in dmodels_ev], marker='D', linestyle='-.', label='DModels Accuracy')\n",
    "plt.plot(N_range, [item[2] for item in protodash_ev], marker='^', linestyle=':', label='Protodash Accuracy')\n",
    "\n",
    "plt.xlabel(\"Number of Prototypes (N)\")\n",
    "plt.ylabel(\"Fidelity\")\n",
    "plt.title(\"Surrogate Model Accuracy vs Number of Prototypes (N) for Different Algorithms\")\n",
    "plt.legend()\n",
    "plt.grid(True)\n",
    "# plt.savefig(\"Figures/nearest_medoid_accuracy_plot.pdf\", format=\"pdf\")\n",
    "plt.show()"
   ]
  },
  {
   "cell_type": "code",
   "execution_count": null,
   "metadata": {},
   "outputs": [],
   "source": [
    "N_range=range(10,81,10)\n",
    "plt.figure(figsize=(12, 8))\n",
    "plt.plot(N_range, [item[0] for item in mglop_ev], marker='o', linestyle='-', label='MGLop Accuracy')\n",
    "plt.plot(N_range, [item[0] for item in dknn_ev], marker='s', linestyle='--', label='DKNN Accuracy')\n",
    "plt.plot(N_range, [item[0] for item in dmodels_ev], marker='D', linestyle='-.', label='DModels Accuracy')\n",
    "plt.plot(N_range, [item[0] for item in protodash_ev], marker='^', linestyle=':', label='Protodash Accuracy')\n",
    "\n",
    "plt.xlabel(\"Number of Prototypes (N)\")\n",
    "plt.ylabel(\"Nearest Medoid Accuracy\")\n",
    "plt.title(\"Nearest Medoid Accuracy vs Number of Prototypes (N) for Different Algorithms\")\n",
    "plt.legend()\n",
    "plt.grid(True)\n",
    "# plt.savefig(\"Figures/nearest_medoid_accuracy_plot.pdf\", format=\"pdf\")\n",
    "plt.show()"
   ]
  },
  {
   "cell_type": "markdown",
   "metadata": {},
   "source": [
    "#### Stability (Silhouette)"
   ]
  },
  {
   "cell_type": "code",
   "execution_count": null,
   "metadata": {},
   "outputs": [],
   "source": [
    "plt.figure(figsize=(12, 8))\n",
    "plt.plot(N_range, [item[1] for item in mglop_ev], marker='o', linestyle='-', label='MGLop Silhouette Score')\n",
    "plt.plot(N_range, [item[1] for item in dknn_ev], marker='s', linestyle='--', label='DKNN Silhouette Score')\n",
    "plt.plot(N_range, [item[1] for item in dmodels_ev], marker='D', linestyle='-.', label='DModels Silhouette Score')\n",
    "plt.plot(N_range, [item[1] for item in protodash_ev], marker='^', linestyle=':', label='Protodash Silhouette Score')\n",
    "\n",
    "plt.xlabel(\"Number of Prototypes (N)\")\n",
    "plt.ylabel(\"Silhouette Score\")\n",
    "plt.title(\"Silhouette Score vs Number of Prototypes (N) for Different Algorithms\")\n",
    "plt.legend()\n",
    "plt.grid(True)\n",
    "# plt.savefig(\"Figures/silhouette_score_plot.pdf\", format=\"pdf\")\n",
    "plt.show()"
   ]
  },
  {
   "cell_type": "markdown",
   "metadata": {},
   "source": [
    "#### Expected Inter-cluster similarity"
   ]
  },
  {
   "cell_type": "code",
   "execution_count": null,
   "metadata": {},
   "outputs": [],
   "source": [
    "import numpy as np\n",
    "import matplotlib.pyplot as plt\n",
    "from scipy.spatial.distance import cdist\n",
    "\n",
    "\n",
    "# Experiment with increasing number of prototypes\n",
    "num_prototypes_list = range(10, 81, 10)\n",
    "avg_similarities = []\n",
    "avg_similarities1 = []\n",
    "avg_similarities2 = []\n",
    "avg_similarities3 = []\n",
    "\n",
    "for i in tqdm(range(8)):\n",
    "    mglop=list(all_protos_np[i].values())[0]\n",
    "    dmodels=list(all_protos_np[i].values())[2]\n",
    "    dknn=list(all_protos_np[i].values())[1]\n",
    "    protodash=list(all_protos_np[i].values())[3]\n",
    "    labels = cluster_by_prototypes(test_embeddings, mglop)\n",
    "    labels1 = cluster_by_prototypes(test_embeddings, dknn)\n",
    "    labels2 = cluster_by_prototypes(test_embeddings, dmodels)\n",
    "    labels3 = cluster_by_prototypes(test_embeddings, protodash)\n",
    "    avg_similarity = expected_inter_cluster_similarity(test_embeddings, labels)\n",
    "    avg_similarity1 = expected_inter_cluster_similarity(test_embeddings, labels1)\n",
    "    avg_similarity2 = expected_inter_cluster_similarity(test_embeddings, labels2)\n",
    "    avg_similarity3 = expected_inter_cluster_similarity(test_embeddings, labels3)\n",
    "    avg_similarities.append(avg_similarity)\n",
    "    avg_similarities1.append(avg_similarity1)\n",
    "    avg_similarities2.append(avg_similarity2)\n",
    "    avg_similarities3.append(avg_similarity3)\n",
    "\n",
    "# Plot the results\n",
    "plt.figure(figsize=(10, 6))\n",
    "plt.plot(num_prototypes_list, avg_similarities, marker='o', label='MGloP')\n",
    "plt.plot(num_prototypes_list, avg_similarities1, marker='x', label='DkNN')\n",
    "plt.plot(num_prototypes_list, avg_similarities2, marker='*', label='Dmodels')\n",
    "plt.plot(num_prototypes_list, avg_similarities3, marker='D', label='ProtoDash')\n",
    "plt.xlabel('Number of Prototypes')\n",
    "plt.ylabel('Expected Inter-Cluster Similarity')\n",
    "plt.title('Expected Inter-Cluster Similarity vs Number of Prototypes')\n",
    "plt.legend()\n",
    "plt.grid(True)\n",
    "plt.show()\n"
   ]
  },
  {
   "cell_type": "code",
   "execution_count": null,
   "metadata": {},
   "outputs": [],
   "source": [
    "covs"
   ]
  },
  {
   "cell_type": "code",
   "execution_count": null,
   "metadata": {},
   "outputs": [],
   "source": []
  },
  {
   "cell_type": "code",
   "execution_count": null,
   "metadata": {},
   "outputs": [],
   "source": [
    "aide_em[2].shape"
   ]
  },
  {
   "cell_type": "code",
   "execution_count": null,
   "metadata": {},
   "outputs": [],
   "source": [
    "[i[0] for i in gx]"
   ]
  },
  {
   "cell_type": "code",
   "execution_count": null,
   "metadata": {},
   "outputs": [],
   "source": [
    "np.where(cluster_labels == 1)[0]"
   ]
  },
  {
   "cell_type": "markdown",
   "metadata": {},
   "source": [
    "## Printing anecdots"
   ]
  },
  {
   "cell_type": "code",
   "execution_count": null,
   "metadata": {},
   "outputs": [],
   "source": [
    "import matplotlib.pyplot as plt\n",
    "from torchvision import datasets, transforms\n",
    "import torchvision.transforms.functional as F\n",
    "\n",
    "def display_cifar10_images(indices, train=False):\n",
    "    \"\"\"\n",
    "    Display CIFAR-10 images based on a list of indices and train/test flag.\n",
    "    \n",
    "    Args:\n",
    "        indices (list of int): List of indices to display.\n",
    "        train (bool): If True, load images from the training set. If False, use the test set.\n",
    "    \"\"\"\n",
    "    # Define transformations for the dataset\n",
    "    transform = transforms.Compose([\n",
    "        transforms.ToTensor(),\n",
    "        transforms.Normalize((0.5, 0.5, 0.5), (0.5, 0.5, 0.5)),\n",
    "    ])\n",
    "    \n",
    "    # Load CIFAR-10 dataset (train or test)\n",
    "    cifar10 = datasets.CIFAR10(root='./data', train=train, download=True, transform=transform)\n",
    "    \n",
    "    # Classes in CIFAR-10\n",
    "    classes = ['airplane', 'automobile', 'bird', 'cat', 'deer', 'dog', 'frog', 'horse', 'ship', 'truck']\n",
    "    \n",
    "    # Number of images to display\n",
    "    num_images = len(indices)\n",
    "    \n",
    "    # Set up a grid for the images\n",
    "    plt.figure(figsize=(12, num_images * 2))  # Adjust figure size based on the number of images\n",
    "    for i, index in enumerate(indices):\n",
    "        image, label = cifar10[index]  # Get image and label at the given index\n",
    "        \n",
    "        # Resize the image for better display quality\n",
    "        resized_image = F.resize(image, size=(128, 128))  # Resize to 128x128\n",
    "        \n",
    "        # Convert tensor to numpy format for visualization\n",
    "        resized_image = resized_image.permute(1, 2, 0)  # Rearrange channels for matplotlib\n",
    "        \n",
    "        # Plot each image in a grid\n",
    "        plt.subplot(1, num_images, i + 1)\n",
    "        plt.imshow(resized_image)\n",
    "        plt.title(f\"{mod_pred[i]}\")\n",
    "        plt.axis('off')\n",
    "    \n",
    "    plt.tight_layout()\n",
    "    plt.show()\n",
    "\n",
    "# Example Usage\n",
    "display_cifar10_images(protodash)  # Display test images\n"
   ]
  },
  {
   "cell_type": "code",
   "execution_count": null,
   "metadata": {},
   "outputs": [],
   "source": []
  }
 ],
 "metadata": {
  "kernelspec": {
   "display_name": "mglop",
   "language": "python",
   "name": "python3"
  },
  "language_info": {
   "codemirror_mode": {
    "name": "ipython",
    "version": 3
   },
   "file_extension": ".py",
   "mimetype": "text/x-python",
   "name": "python",
   "nbconvert_exporter": "python",
   "pygments_lexer": "ipython3",
   "version": "3.8.20"
  }
 },
 "nbformat": 4,
 "nbformat_minor": 2
}
