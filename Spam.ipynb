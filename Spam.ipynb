{
 "cells": [
  {
   "cell_type": "code",
   "execution_count": 1,
   "id": "0b7bdaab",
   "metadata": {},
   "outputs": [
    {
     "name": "stderr",
     "output_type": "stream",
     "text": [
      "/tmp/ipykernel_2792991/1474973784.py:55: FutureWarning: You are using `torch.load` with `weights_only=False` (the current default value), which uses the default pickle module implicitly. It is possible to construct malicious pickle data which will execute arbitrary code during unpickling (See https://github.com/pytorch/pytorch/blob/main/SECURITY.md#untrusted-models for more details). In a future release, the default value for `weights_only` will be flipped to `True`. This limits the functions that could be executed during unpickling. Arbitrary objects will no longer be allowed to be loaded via this mode unless they are explicitly allowlisted by the user via `torch.serialization.add_safe_globals`. We recommend you start setting `weights_only=True` for any use case where you don't have full control of the loaded file. Please open an issue on GitHub for any issues related to this experimental feature.\n",
      "  dmem=torch.load(\"data/embeds_DMtxt.pt\")\n"
     ]
    }
   ],
   "source": [
    "import pandas as pd\n",
    "import pickle\n",
    "import torch.nn.functional as F\n",
    "# from transformers import AutoTokenizer, AutoModel\n",
    "from tqdm import tqdm\n",
    "import matplotlib.transforms as mtrans\n",
    "import numpy as np\n",
    "from sklearn import linear_model\n",
    "from sklearn.model_selection import train_test_split\n",
    "from torch import nn\n",
    "from torch.utils import data\n",
    "from IF import *\n",
    "from proutils import *\n",
    "from joblib import Parallel, delayed\n",
    "\n",
    "from sklearn.metrics.pairwise import cosine_similarity\n",
    "import matplotlib.pyplot as plt\n",
    "from collections import Counter\n",
    "\n",
    "\n",
    "# Load the pre-trained BERT model and tokenizer \n",
    "# tokenizer = AutoTokenizer.from_pretrained('bert-base-uncased')\n",
    "# model = AutoModel.from_pretrained('bert-base-uncased')\n",
    "\n",
    "# # Create a sample dataframe with messages and their labels\n",
    "# df = pd.read_csv('data/spam.csv', encoding='ISO-8859-1', usecols=[0, 1]).rename(columns={'v2': 'message', 'v1': 'label'})\n",
    "\n",
    "# # Define a function to generate embeddings for a given message\n",
    "# def generate_embedding(message):\n",
    "#     # Tokenize the message and convert to tensors\n",
    "#     input_ids = torch.tensor([tokenizer.encode(message, add_special_tokens=True)])\n",
    "#     # Generate the BERT embeddings\n",
    "#     with torch.no_grad():\n",
    "#         outputs = model(input_ids)\n",
    "#         last_hidden_states = outputs.last_hidden_state[0]\n",
    "#     # Return the mean of the embedding vectors\n",
    "#     return torch.mean(last_hidden_states, dim=0)\n",
    "\n",
    "# # Apply the generate_embedding function to all messages in the dataframe\n",
    "# tqdm.pandas(desc=\"Processing rows\")\n",
    "# df['embedding'] = df['message'].progress_apply(generate_embedding)\n",
    "# df.to_pickle('data/spambert1.pkl')\n",
    "# # Print the updated dataframe\n",
    "# print(df)\n",
    "def surrogate_fidelity(prototypes):\n",
    "    smodel = fit_model(X_test[prototypes], mod_pred[prototypes])\n",
    "\n",
    "    # Evaluate the model on test data\n",
    "    smodel.eval()\n",
    "    with torch.no_grad():\n",
    "        outputs = smodel(X_test)\n",
    "        predicted = (outputs>0.5).int()\n",
    "        accuracy = (predicted == mod_pred).sum().item() / len(Y_test)\n",
    "    return accuracy\n",
    "dmem=torch.load(\"data/embeds_DMtxt.pt\")"
   ]
  },
  {
   "cell_type": "code",
   "execution_count": 2,
   "id": "54d54e05",
   "metadata": {},
   "outputs": [
    {
     "name": "stderr",
     "output_type": "stream",
     "text": [
      "/tmp/ipykernel_2792991/3044327517.py:7: UserWarning: To copy construct from a tensor, it is recommended to use sourceTensor.clone().detach() or sourceTensor.clone().detach().requires_grad_(True), rather than torch.tensor(sourceTensor).\n",
      "  X_train = torch.tensor(X_train)\n",
      "/tmp/ipykernel_2792991/3044327517.py:12: UserWarning: To copy construct from a tensor, it is recommended to use sourceTensor.clone().detach() or sourceTensor.clone().detach().requires_grad_(True), rather than torch.tensor(sourceTensor).\n",
      "  X_test = torch.tensor(X_test)\n"
     ]
    }
   ],
   "source": [
    "df=pd.read_pickle(\"data/spambert1.pkl\")\n",
    "X=torch.stack(df.embedding.tolist())\n",
    "y=df.label.map({'spam':1, 'ham':0})\n",
    "\n",
    "X_train, X_test, Y_train, Y_test = train_test_split(X, y, test_size=0.4, random_state=30)\n",
    "text_train = df.message[Y_train.index].tolist()\n",
    "X_train = torch.tensor(X_train)\n",
    "Y_train = torch.tensor(Y_train.tolist()).type('torch.FloatTensor')\n",
    "\n",
    "text_test = df.message[Y_test.index].tolist()\n",
    "Y_test = torch.tensor(Y_test.tolist()).type('torch.FloatTensor')\n",
    "X_test = torch.tensor(X_test)"
   ]
  },
  {
   "cell_type": "code",
   "execution_count": 3,
   "id": "562c6760",
   "metadata": {},
   "outputs": [
    {
     "data": {
      "text/plain": [
       "torch.Size([3343, 768])"
      ]
     },
     "execution_count": 3,
     "metadata": {},
     "output_type": "execute_result"
    }
   ],
   "source": [
    "X_train.shape"
   ]
  },
  {
   "cell_type": "code",
   "execution_count": 3,
   "id": "89305de2",
   "metadata": {},
   "outputs": [],
   "source": [
    "L2_WEIGHT = 1e-4\n",
    "def fit_model(X, Y):\n",
    "    C = 1 / (X.shape[0] * L2_WEIGHT)\n",
    "    sk_clf = linear_model.LogisticRegression(C=C, tol=1e-8, max_iter=1000)\n",
    "    sk_clf = sk_clf.fit(X.numpy(), Y.numpy())\n",
    "\n",
    "    # recreate model in PyTorch\n",
    "    fc = nn.Linear(768, 1, bias=True)\n",
    "    fc.weight = nn.Parameter(torch.tensor(sk_clf.coef_))\n",
    "    fc.bias = nn.Parameter(torch.tensor(sk_clf.intercept_))\n",
    "\n",
    "    pt_clf = nn.Sequential(\n",
    "        fc,\n",
    "        nn.Flatten(start_dim=-2),\n",
    "        nn.Sigmoid()\n",
    "    )\n",
    "\n",
    "    return pt_clf.type('torch.FloatTensor')\n",
    "\n",
    "train_set = data.TensorDataset(X_train, Y_train)\n",
    "test_set = data.TensorDataset(X_test, Y_test)\n",
    "clf = fit_model(X_train, Y_train)"
   ]
  },
  {
   "cell_type": "code",
   "execution_count": 4,
   "id": "ba0be9c3",
   "metadata": {},
   "outputs": [],
   "source": [
    "mod_pred = (clf(X_test)>0.5).int()\n",
    "DEVICE= torch.device('cuda' if torch.cuda.is_available() else 'cpu')\n"
   ]
  },
  {
   "cell_type": "code",
   "execution_count": 5,
   "id": "66f6872c",
   "metadata": {},
   "outputs": [
    {
     "name": "stdout",
     "output_type": "stream",
     "text": [
      "Test Accuracy: 99.19%\n"
     ]
    }
   ],
   "source": [
    "with torch.no_grad():\n",
    "    outputs = clf(X_test)\n",
    "    predicted = (outputs>0.5).int()\n",
    "    accuracy = (predicted == Y_test).sum().item() / len(Y_test)\n",
    "    print(f'Test Accuracy: {accuracy * 100:.2f}%')"
   ]
  },
  {
   "cell_type": "code",
   "execution_count": 6,
   "id": "25f6977e",
   "metadata": {},
   "outputs": [
    {
     "data": {
      "text/plain": [
       "tensor([0.0001], grad_fn=<SubBackward0>)"
      ]
     },
     "execution_count": 6,
     "metadata": {},
     "output_type": "execute_result"
    }
   ],
   "source": [
    "clf(X_train[1].unsqueeze(0))-clf(X_train[3].unsqueeze(0))"
   ]
  },
  {
   "cell_type": "code",
   "execution_count": 7,
   "id": "9c4ab083",
   "metadata": {},
   "outputs": [],
   "source": [
    "class BinClassObjective(BaseObjective):\n",
    "\n",
    "    def train_outputs(self, model, batch):\n",
    "        return model(batch[0])\n",
    "\n",
    "    def train_loss_on_outputs(self, outputs, batch):\n",
    "        return F.binary_cross_entropy(outputs, batch[1])\n",
    "\n",
    "    def train_regularization(self, params):\n",
    "        return L2_WEIGHT * torch.square(params.norm())\n",
    "\n",
    "    def test_loss(self, model, params, batch):\n",
    "        outputs = model(batch[0])\n",
    "        return F.binary_cross_entropy(outputs, batch[1])\n",
    "    \n",
    "module = LiSSAInfluenceModule(\n",
    "    model=clf,\n",
    "    objective=BinClassObjective(),\n",
    "    train_loader=data.DataLoader(train_set, batch_size=32),\n",
    "    test_loader=data.DataLoader(test_set, batch_size=32),\n",
    "    device=DEVICE,\n",
    "    damp=0.001,\n",
    "    repeat= 1,\n",
    "    depth=1800,\n",
    "    scale= 10,\n",
    ")"
   ]
  },
  {
   "cell_type": "code",
   "execution_count": null,
   "id": "045bdb85",
   "metadata": {},
   "outputs": [
    {
     "ename": "TypeError",
     "evalue": "'float' object cannot be interpreted as an integer",
     "output_type": "error",
     "traceback": [
      "\u001b[0;31m---------------------------------------------------------------------------\u001b[0m",
      "\u001b[0;31mTypeError\u001b[0m                                 Traceback (most recent call last)",
      "Cell \u001b[0;32mIn[33], line 2\u001b[0m\n\u001b[1;32m      1\u001b[0m test_idxs \u001b[38;5;241m=\u001b[39m \u001b[38;5;28mlist\u001b[39m(\u001b[38;5;28mrange\u001b[39m(\u001b[38;5;28mlen\u001b[39m(Y_test)))\n\u001b[0;32m----> 2\u001b[0m train_idxs \u001b[38;5;241m=\u001b[39m \u001b[38;5;28mlist\u001b[39m(\u001b[38;5;28;43mrange\u001b[39;49m\u001b[43m(\u001b[49m\u001b[43m(\u001b[49m\u001b[38;5;28;43mlen\u001b[39;49m\u001b[43m(\u001b[49m\u001b[43mY_train\u001b[49m\u001b[43m)\u001b[49m\u001b[38;5;241;43m+\u001b[39;49m\u001b[38;5;241;43m1\u001b[39;49m\u001b[43m)\u001b[49m\u001b[38;5;241;43m/\u001b[39;49m\u001b[38;5;241;43m2\u001b[39;49m\u001b[43m)\u001b[49m)\n",
      "\u001b[0;31mTypeError\u001b[0m: 'float' object cannot be interpreted as an integer"
     ]
    }
   ],
   "source": [
    "\n",
    "test_idxs = list(range(len(Y_test)))\n",
    "train_idxs = list(range(len(Y_train)))"
   ]
  },
  {
   "cell_type": "code",
   "execution_count": 53,
   "id": "781650d1",
   "metadata": {},
   "outputs": [],
   "source": [
    "a1=module.influences(train_idxs=train_idxs, test_idxs=[1])"
   ]
  },
  {
   "cell_type": "code",
   "execution_count": 40,
   "id": "7fc81717",
   "metadata": {},
   "outputs": [
    {
     "data": {
      "text/plain": [
       "tensor([False, False, False,  ..., False, False, False])"
      ]
     },
     "execution_count": 40,
     "metadata": {},
     "output_type": "execute_result"
    }
   ],
   "source": [
    "(a1+a2)/2==a"
   ]
  },
  {
   "cell_type": "code",
   "execution_count": 42,
   "id": "7df13216",
   "metadata": {},
   "outputs": [],
   "source": [
    "infinst=cosine_similarity(X_test, X_train)"
   ]
  },
  {
   "cell_type": "code",
   "execution_count": 52,
   "id": "9de039e6",
   "metadata": {},
   "outputs": [
    {
     "data": {
      "text/plain": [
       "0.8873426"
      ]
     },
     "execution_count": 52,
     "metadata": {},
     "output_type": "execute_result"
    }
   ],
   "source": [
    "infinst[0][1585]"
   ]
  },
  {
   "cell_type": "code",
   "execution_count": 46,
   "id": "44d795dc",
   "metadata": {},
   "outputs": [
    {
     "data": {
      "text/plain": [
       "array([[2994, 1621, 3053, ..., 3227, 2975, 1585],\n",
       "       [  48, 2994, 1959, ..., 1817,  147, 1601],\n",
       "       [2994, 1330, 2705, ..., 2387, 2496, 2666],\n",
       "       ...,\n",
       "       [2994,   48, 1959, ..., 1939, 1488,  551],\n",
       "       [ 974, 2987, 1010, ...,  555,  888, 1612],\n",
       "       [1309,  515, 2964, ..., 1142, 3151, 1589]])"
      ]
     },
     "execution_count": 46,
     "metadata": {},
     "output_type": "execute_result"
    }
   ],
   "source": [
    "infinst.argsort(axis=1)"
   ]
  },
  {
   "cell_type": "code",
   "execution_count": null,
   "id": "c7ff453a",
   "metadata": {},
   "outputs": [],
   "source": [
    "\n",
    "test_idxs = list(range(len(Y_test)))\n",
    "\n",
    "# Function to compute influence for a single test point\n",
    "def compute_influence(test_idx):\n",
    "    print(f'Compute influence for test point {test_idx}')\n",
    "    influences = module.influences(train_idxs=train_idxs, test_idxs=[test_idx])\n",
    "    return influences\n",
    "\n",
    "# Parallel computation of influence scores\n",
    "num_cores = -1\n",
    "\n",
    "influence_scores = Parallel(n_jobs=num_cores)(delayed(compute_influence)(test_idx) for test_idx in tqdm(test_idxs))\n",
    "\n",
    "# Step 7: Save the influence scores to a file\n",
    "influence_scores = np.array(influence_scores)\n",
    "np.save('influence_scores_txt.npy', influence_scores)\n",
    "print('Influence scores saved to influence_scores.npy')"
   ]
  },
  {
   "cell_type": "code",
   "execution_count": 5,
   "id": "0202e516",
   "metadata": {},
   "outputs": [
    {
     "name": "stderr",
     "output_type": "stream",
     "text": [
      "/tmp/ipykernel_751024/643774565.py:1: FutureWarning: You are using `torch.load` with `weights_only=False` (the current default value), which uses the default pickle module implicitly. It is possible to construct malicious pickle data which will execute arbitrary code during unpickling (See https://github.com/pytorch/pytorch/blob/main/SECURITY.md#untrusted-models for more details). In a future release, the default value for `weights_only` will be flipped to `True`. This limits the functions that could be executed during unpickling. Arbitrary objects will no longer be allowed to be loaded via this mode unless they are explicitly allowlisted by the user via `torch.serialization.add_safe_globals`. We recommend you start setting `weights_only=True` for any use case where you don't have full control of the loaded file. Please open an issue on GitHub for any issues related to this experimental feature.\n",
      "  influence_scores=torch.load(\"influencestxt.pt\")\n"
     ]
    }
   ],
   "source": [
    "influence_scores=torch.load(\"influencestxt.pt\")"
   ]
  },
  {
   "cell_type": "code",
   "execution_count": null,
   "id": "6e10d339",
   "metadata": {},
   "outputs": [],
   "source": [
    "#Experiments with MGloP\n",
    "mglop=Parallel(n_jobs=-1)(delayed(find_representative_samples)(X_test, X_train, influence_scores,i, 20) for i in tqdm(range(10,81,10)))\n",
    "accs=[]\n",
    "fids=[]\n",
    "sil=[]\n",
    "sim=[]\n",
    "def compute_metrics(i):\n",
    "    acc = nearest_medoid_accuracy(X_test, mod_pred, mglop[i])\n",
    "    fid=surrogate_fidelity(mglop[i])\n",
    "    sil = compute_prototype_silhouette_score(X_test, mglop[i])\n",
    "    labels = cluster_by_prototypes(X_test, mglop[i])\n",
    "    sim = expected_inter_cluster_similarity(X_test, labels)\n",
    "    return acc,fid, sil, sim\n",
    "\n",
    "# Parallel computation\n",
    "results = Parallel(n_jobs=64)(delayed(compute_metrics)(i) for i in range(len(mglop)))\n",
    "\n",
    "# Unpack results into separate lists\n",
    "accs,fids, sil, sim = zip(*results)\n",
    "plt.plot(range(10, 81, 10), accs, marker='D', label='Faithfulness')\n",
    "plt.plot(range(10, 81, 10), fids, marker='*', label='Fidelity')\n",
    "plt.plot(range(10, 81, 10), sil, marker='x', label='Silhouette')\n",
    "plt.plot(range(10, 81, 10), sim, marker='o', label='Expected similarity')\n",
    "plt.legend()\n",
    "plt.show()"
   ]
  },
  {
   "cell_type": "markdown",
   "id": "599f52c9",
   "metadata": {},
   "source": [
    "### Sensetivity Analysis of MGloP"
   ]
  },
  {
   "cell_type": "code",
   "execution_count": null,
   "id": "2e05406c",
   "metadata": {},
   "outputs": [],
   "source": [
    "#Experiments with MGloP\n",
    "alphas=np.arange(0,1,0.1)\n",
    "mglop=Parallel(n_jobs=-1)(delayed(find_representative_samples)(X_test, X_train, influence_scores,20, 20, alpha=i) for i in tqdm(alphas))\n",
    "accs=[]\n",
    "fids=[]\n",
    "sil=[]\n",
    "sim=[]\n",
    "def compute_metrics(i):\n",
    "    acc = nearest_medoid_accuracy(X_test, mod_pred, mglop[i])\n",
    "    fid=surrogate_fidelity(mglop[i])\n",
    "    sil = compute_prototype_silhouette_score(X_test, mglop[i])\n",
    "    labels = cluster_by_prototypes(X_test, mglop[i])\n",
    "    sim = expected_inter_cluster_similarity(X_test, labels)\n",
    "    return acc,fid, sil, sim\n",
    "\n",
    "# Parallel computation\n",
    "results = Parallel(n_jobs=64)(delayed(compute_metrics)(i) for i in range(len(mglop)))\n",
    "\n",
    "# Unpack results into separate lists\n",
    "accs,fids, sil, sim = zip(*results)\n",
    "plt.plot(alphas, accs, marker='D', label='Faithfulness')\n",
    "plt.plot(alphas, fids, marker='*', label='Fidelity')\n",
    "plt.plot(alphas, sil, marker='x', label='Silhouette')\n",
    "plt.plot(alphas, sim, marker='o', label='Expected similarity')\n",
    "plt.legend()\n",
    "plt.show()"
   ]
  },
  {
   "cell_type": "code",
   "execution_count": null,
   "id": "0c378545",
   "metadata": {},
   "outputs": [],
   "source": [
    "#Sensitivity to the number of influential sample to build the graph with\n",
    "mglop=Parallel(n_jobs=-1)(delayed(find_representative_samples)(X_test, X_train, influence_scores,20, i, alpha=0.6) for i in tqdm(range(5,41,5)))\n",
    "accs=[]\n",
    "fids=[]\n",
    "sil=[]\n",
    "sim=[]\n",
    "def compute_metrics(i):\n",
    "    acc = nearest_medoid_accuracy(X_test, mod_pred, mglop[i])\n",
    "    fid=surrogate_fidelity(mglop[i])\n",
    "    sil = compute_prototype_silhouette_score(X_test, mglop[i])\n",
    "    labels = cluster_by_prototypes(X_test, mglop[i])\n",
    "    sim = expected_inter_cluster_similarity(X_test, labels)\n",
    "    return acc,fid, sil, sim\n",
    "\n",
    "# Parallel computation\n",
    "results = Parallel(n_jobs=64)(delayed(compute_metrics)(i) for i in range(len(mglop)))\n",
    "\n",
    "# Unpack results into separate lists\n",
    "accs,fids, sil, sim = zip(*results)\n",
    "plt.plot(range(5,41,5), accs, marker='D', label='Faithfulness')\n",
    "plt.plot(range(5,41,5), fids, marker='*', label='Fidelity')\n",
    "plt.plot(range(5,41,5), sil, marker='x', label='Silhouette')\n",
    "plt.plot(range(5,41,5), sim, marker='o', label='Expected similarity')\n",
    "plt.legend()\n",
    "plt.show()"
   ]
  },
  {
   "cell_type": "code",
   "execution_count": null,
   "id": "d7ce6426",
   "metadata": {},
   "outputs": [],
   "source": []
  },
  {
   "cell_type": "code",
   "execution_count": 7,
   "id": "8472332e",
   "metadata": {},
   "outputs": [],
   "source": [
    "aide_em=aide(influence_scores, X_train, X_test, 30, coverage=True)\n",
    "prs=find_representative_samples(X_test, X_train, influence_scores, 20, 30, alpha=0.6)\n",
    "distances = cosine_similarity(X_test, X_test[prs])\n",
    "nearest_medoid_indices = np.argmax(distances, axis=1)\n",
    "\n",
    "def coverage(N, bin=False, popularity=True):\n",
    "    covs=[]\n",
    "    for i in tqdm(np.unique(nearest_medoid_indices)):\n",
    "        idx=np.where(nearest_medoid_indices == i)[0]\n",
    "        if popularity:\n",
    "            gx=[i[0] for i in Counter(np.array(aide_em)[idx].flatten()).most_common(60)]\n",
    "        else:\n",
    "            gx=aide_em[prs[i]]\n",
    "        for j in idx:\n",
    "            if bin:\n",
    "                if len(set(aide_em[j]).intersection(set(gx)))>N:\n",
    "                    covs.append(1)\n",
    "                else:\n",
    "                    covs.append(0)\n",
    "            else:\n",
    "                covs.append(len(set(aide_em[j]).intersection(set(gx)))/len(aide_em[j]))\n",
    "    return sum(covs)/len(covs)\n",
    "\n"
   ]
  },
  {
   "cell_type": "code",
   "execution_count": 14,
   "id": "7b2e0996",
   "metadata": {},
   "outputs": [
    {
     "name": "stderr",
     "output_type": "stream",
     "text": [
      "100%|██████████| 20/20 [00:00<00:00, 343.48it/s]\n"
     ]
    },
    {
     "data": {
      "text/plain": [
       "0.9896814715118888"
      ]
     },
     "execution_count": 14,
     "metadata": {},
     "output_type": "execute_result"
    }
   ],
   "source": [
    "coverage(1, bin=True, popularity=True)"
   ]
  },
  {
   "cell_type": "code",
   "execution_count": 28,
   "id": "e2bf63a3",
   "metadata": {},
   "outputs": [
    {
     "name": "stderr",
     "output_type": "stream",
     "text": [
      "100%|██████████| 20/20 [00:00<00:00, 730.82it/s]\n",
      "100%|██████████| 20/20 [00:00<00:00, 766.14it/s]\n",
      "100%|██████████| 20/20 [00:00<00:00, 769.70it/s]\n",
      "100%|██████████| 20/20 [00:00<00:00, 777.96it/s]\n",
      "100%|██████████| 20/20 [00:00<00:00, 779.43it/s]\n",
      "100%|██████████| 20/20 [00:00<00:00, 778.90it/s]\n",
      "100%|██████████| 20/20 [00:00<00:00, 774.37it/s]\n",
      "100%|██████████| 20/20 [00:00<00:00, 776.66it/s]\n",
      "100%|██████████| 20/20 [00:00<00:00, 773.96it/s]\n",
      "100%|██████████| 20/20 [00:00<00:00, 774.09it/s]\n",
      "100%|██████████| 20/20 [00:00<00:00, 772.69it/s]\n",
      "100%|██████████| 20/20 [00:00<00:00, 769.91it/s]\n",
      "100%|██████████| 20/20 [00:00<00:00, 773.86it/s]\n",
      "100%|██████████| 20/20 [00:00<00:00, 778.47it/s]\n",
      "100%|██████████| 20/20 [00:00<00:00, 774.53it/s]\n",
      "100%|██████████| 20/20 [00:00<00:00, 771.91it/s]\n",
      "100%|██████████| 20/20 [00:00<00:00, 774.23it/s]\n",
      "100%|██████████| 20/20 [00:00<00:00, 757.92it/s]\n",
      "100%|██████████| 20/20 [00:00<00:00, 772.19it/s]\n",
      "100%|██████████| 20/20 [00:00<00:00, 748.11it/s]\n",
      "100%|██████████| 20/20 [00:00<00:00, 771.78it/s]\n",
      "100%|██████████| 20/20 [00:00<00:00, 778.41it/s]\n",
      "100%|██████████| 20/20 [00:00<00:00, 774.40it/s]\n",
      "100%|██████████| 20/20 [00:00<00:00, 771.44it/s]\n",
      "100%|██████████| 20/20 [00:00<00:00, 775.94it/s]\n",
      "100%|██████████| 20/20 [00:00<00:00, 765.13it/s]\n",
      "100%|██████████| 20/20 [00:00<00:00, 770.12it/s]\n",
      "100%|██████████| 20/20 [00:00<00:00, 775.37it/s]\n",
      "100%|██████████| 20/20 [00:00<00:00, 775.14it/s]\n",
      "100%|██████████| 20/20 [00:00<00:00, 775.70it/s]\n",
      "100%|██████████| 20/20 [00:00<00:00, 775.03it/s]\n"
     ]
    }
   ],
   "source": [
    "\n",
    "covs= [coverage(i, bin=True, popularity=False) for i in range(31)]"
   ]
  },
  {
   "cell_type": "code",
   "execution_count": 29,
   "id": "deaa9261",
   "metadata": {},
   "outputs": [
    {
     "data": {
      "image/png": "[encoded data removed]",
      "text/plain": [
       "<Figure size 1200x800 with 1 Axes>"
      ]
     },
     "metadata": {},
     "output_type": "display_data"
    }
   ],
   "source": [
    "plt.figure(figsize=(12, 8))\n",
    "plt.plot(covs[1:], range(1,31))\n",
    "plt.rcParams['pdf.fonttype'] = 42\n",
    "plt.rcParams['ps.fonttype'] = 42\n",
    "plt.ylabel(\"Number of covered samples\")\n",
    "plt.xlabel(\"Percentage of cluster elements\")\n",
    "plt.title(\"Coverage in Spam Dataset\")\n",
    "plt.grid(True)\n",
    "\n",
    "# Save the plot as a PDF\n",
    "# plt.savefig(\"Figures/intersection_plot.pdf\", format=\"pdf\")\n",
    "\n",
    "# Show the plot\n",
    "plt.show()"
   ]
  },
  {
   "cell_type": "code",
   "execution_count": null,
   "id": "a3fbc208",
   "metadata": {},
   "outputs": [],
   "source": [
    "from aix360.algorithms.protodash import ProtodashExplainer\n",
    "\n",
    "N_values=range(10,81, 10)\n",
    "def generate_prototypes(N):\n",
    "    explainer = ProtodashExplainer()\n",
    "    weights, protodash, _ = explainer.explain(X_test, X_test, m=N, kernelType='euclid')\n",
    "    \n",
    "    return {\n",
    "        \"mglop\": find_representative_samples(X_test, X_train, influence_scores, N, 20),\n",
    "        \"dknn\": find_prototypes(X_test, mod_pred, N),\n",
    "        \"dm\": find_prototypes(dmem, mod_pred, N),\n",
    "        \"protodash\": protodash\n",
    "    }\n",
    "\n",
    "n_jobs = -1 \n",
    "all_protos = Parallel(n_jobs=n_jobs)(\n",
    "    delayed(generate_prototypes)(N)\n",
    "    for N in tqdm(N_values)\n",
    ")"
   ]
  },
  {
   "cell_type": "code",
   "execution_count": null,
   "id": "76d2502b",
   "metadata": {},
   "outputs": [],
   "source": [
    "algorithms = ['mglop', 'dm', 'dknn', 'protodash']\n",
    "N_values = range(10, 81, 10)  # Increasing N values from 10 to 80\n",
    "intersections = {f\"{algo1} ∩ {algo2}\": [] for i, algo1 in enumerate(algorithms) for algo2 in algorithms[i + 1:]}\n",
    "\n",
    "\n",
    "# Extract intersections between algorithm outputs\n",
    "for i, outputs in enumerate(all_protos):\n",
    "    for j, algo1 in enumerate(algorithms):\n",
    "        for algo2 in algorithms[j + 1:]:\n",
    "            intersection_size = len(set(outputs[algo1]) & set(outputs[algo2]))\n",
    "            intersections[f\"{algo1} ∩ {algo2}\"].append(intersection_size)\n",
    "\n",
    "# Plotting the results\n",
    "line_styles = ['-', '--', '-.', ':', '-', '--']\n",
    "markers = ['o', 's', 'D', '^', 'v', 'P']\n",
    "\n",
    "plt.figure(figsize=(12, 8))\n",
    "for (label, sizes), linestyle, marker in zip(intersections.items(), line_styles, markers):\n",
    "    plt.plot(N_values, sizes, linestyle=linestyle, marker=marker, label=label)\n",
    "plt.rcParams['pdf.fonttype'] = 42\n",
    "plt.rcParams['ps.fonttype'] = 42\n",
    "plt.xlabel(\"Number of Prototypes (N)\")\n",
    "plt.ylabel(\"Intersection Size\")\n",
    "plt.title(\"Intersection Size vs Number of Elements (N) for Algorithm Outputs\")\n",
    "plt.legend()\n",
    "plt.grid(True)\n",
    "\n",
    "# Save the plot as a PDF\n",
    "# plt.savefig(\"Figures/intersection_plot.pdf\", format=\"pdf\")\n",
    "\n",
    "# Show the plot\n",
    "plt.show()"
   ]
  },
  {
   "cell_type": "code",
   "execution_count": null,
   "id": "d56ce5ed",
   "metadata": {},
   "outputs": [],
   "source": [
    "from sklearn.metrics import adjusted_rand_score\n",
    "from scipy.spatial.distance import cdist\n",
    "\n",
    "def assign_clusters(X, prototypes):\n",
    "\n",
    "    # Compute distance from each point to each prototype\n",
    "    distances = cdist(X, prototypes, metric='euclidean')\n",
    "    \n",
    "    # Assign each point to the cluster with minimum distance\n",
    "    labels = np.argmin(distances, axis=1)\n",
    "    return labels\n",
    "\n",
    "pairwise_aris = {\n",
    "    \"MGloP-DkNN\": [],\n",
    "    \"MGloP-DM\": [],\n",
    "    \"MGloP-PDash\": [],\n",
    "    \"DkNN-DM\": [],\n",
    "    \"DkNN-PDash\": [],\n",
    "    \"DM-PDash\": []\n",
    "}\n",
    "\n",
    "for i in range(len(all_protos)):\n",
    "    labels1 = assign_clusters(X_test, X_test[list(all_protos[i].values())[0]])\n",
    "    labels2 = assign_clusters(X_test, X_test[list(all_protos[i].values())[1]])\n",
    "    labels3 = assign_clusters(X_test, X_test[list(all_protos[i].values())[2]])\n",
    "    labels4 = assign_clusters(X_test, X_test[list(all_protos[i].values())[3]])\n",
    "    \n",
    "    \n",
    "    # Compute ARIs for all pairs\n",
    "    ari_12 = adjusted_rand_score(labels1, labels2)\n",
    "    ari_13 = adjusted_rand_score(labels1, labels3)\n",
    "    ari_14 = adjusted_rand_score(labels1, labels4)\n",
    "    ari_23 = adjusted_rand_score(labels2, labels3)\n",
    "    ari_24 = adjusted_rand_score(labels2, labels4)\n",
    "    ari_34 = adjusted_rand_score(labels3, labels4)\n",
    "    \n",
    "    # Append results\n",
    "    pairwise_aris[\"MGloP-DkNN\"].append(ari_12)\n",
    "    pairwise_aris[\"MGloP-DM\"].append(ari_13)\n",
    "    pairwise_aris[\"MGloP-PDash\"].append(ari_14)\n",
    "    pairwise_aris[\"DkNN-DM\"].append(ari_23)\n",
    "    pairwise_aris[\"DkNN-PDash\"].append(ari_24)\n",
    "    pairwise_aris[\"DM-PDash\"].append(ari_34)\n",
    "\n",
    "# Plot the ARI evolution for each pair\n",
    "plt.figure(figsize=(10, 6))\n",
    "for pair_name, ari_values in pairwise_aris.items():\n",
    "    plt.plot(N_values, ari_values, marker='o', label=pair_name)\n",
    "\n",
    "plt.title('ARI Evolution for Each Pair as Number of Prototypes Increases')\n",
    "plt.xlabel('Number of Prototypes (k)')\n",
    "plt.ylabel('ARI')\n",
    "plt.grid(True)\n",
    "plt.legend()\n",
    "plt.show()"
   ]
  },
  {
   "cell_type": "code",
   "execution_count": null,
   "id": "7baf36b9",
   "metadata": {},
   "outputs": [],
   "source": [
    "all_protos_np=np.array(all_protos)\n",
    "# mglop_ev=[]\n",
    "# protodash_ev=[]\n",
    "# dknn_ev=[]\n",
    "# dmodels_ev=[]\n",
    "# for i in range(len(all_protos_np)):\n",
    "#     mglop_ev.append([nearest_medoid_accuracy(X_test, mod_pred, list(all_protos_np[i].values())[0]), compute_prototype_silhouette_score(X_test, list(all_protos_np[i].values())[0]), surrogate_fidelity(list(all_protos_np[i].values())[0])])\n",
    "#     dmodels_ev.append([nearest_medoid_accuracy(X_test, mod_pred, list(all_protos_np[i].values())[2]), compute_prototype_silhouette_score(X_test, list(all_protos_np[i].values())[2]), surrogate_fidelity(list(all_protos_np[i].values())[2])])   \n",
    "#     dknn_ev.append([nearest_medoid_accuracy(X_test, mod_pred, list(all_protos_np[i].values())[1]), compute_prototype_silhouette_score(X_test, list(all_protos_np[i].values())[1]),surrogate_fidelity(list(all_protos_np[i].values())[1])])\n",
    "#     protodash_ev.append([nearest_medoid_accuracy(X_test, mod_pred, list(all_protos_np[i].values())[3]), compute_prototype_silhouette_score(X_test, list(all_protos_np[i].values())[3]), surrogate_fidelity(list(all_protos_np[i].values())[3])])\n",
    "               \n"
   ]
  },
  {
   "cell_type": "code",
   "execution_count": null,
   "id": "bb51ee8c",
   "metadata": {},
   "outputs": [],
   "source": [
    "N_range=range(10,81,10)\n",
    "plt.figure(figsize=(12, 8))\n",
    "plt.plot(N_range, [item[2] for item in mglop_ev], marker='o', linestyle='-', label='MGLop Accuracy')\n",
    "plt.plot(N_range, [item[2] for item in dknn_ev], marker='s', linestyle='-', label='DKNN Accuracy')\n",
    "plt.plot(N_range, [item[2] for item in dmodels_ev], marker='D', linestyle='-', label='DModels Accuracy')\n",
    "plt.plot(N_range, [item[2] for item in protodash_ev], marker='^', linestyle='-', label='Protodash Accuracy')\n",
    "\n",
    "plt.xlabel(\"Number of Prototypes (N)\", fontsize=16)\n",
    "plt.ylabel(\"Fidelity\", fontsize=16)\n",
    "plt.title(\"Surrogate Model Accuracy vs Number of Prototypes (N) for Different Algorithms\", fontsize=18)\n",
    "plt.rcParams['pdf.fonttype'] = 42\n",
    "plt.rcParams['ps.fonttype'] = 42\n",
    "plt.legend()\n",
    "plt.grid(True)\n",
    "# plt.savefig(\"Figures/nearest_medoid_accuracy_plot.pdf\", format=\"pdf\")\n",
    "plt.show()"
   ]
  },
  {
   "cell_type": "code",
   "execution_count": null,
   "id": "b4b3f4fc",
   "metadata": {},
   "outputs": [],
   "source": [
    "N_range=range(10,81,10)\n",
    "plt.figure(figsize=(12, 8))\n",
    "plt.plot(N_range, [item[0] for item in mglop_ev], marker='o', linestyle='-', label='MGLop Accuracy')\n",
    "plt.plot(N_range, [item[0] for item in dknn_ev], marker='s', linestyle='-', label='DKNN Accuracy')\n",
    "plt.plot(N_range, [item[0] for item in dmodels_ev], marker='D', linestyle='-', label='DModels Accuracy')\n",
    "plt.plot(N_range, [item[0] for item in protodash_ev], marker='^', linestyle='-', label='Protodash Accuracy')\n",
    "\n",
    "plt.xlabel(\"Number of Prototypes (N)\")\n",
    "plt.ylabel(\"Nearest Medoid Accuracy\")\n",
    "plt.title(\"Nearest Medoid Accuracy vs Number of Prototypes (N) for Different Algorithms\")\n",
    "plt.legend()\n",
    "plt.grid(True)\n",
    "# plt.savefig(\"Figures/nearest_medoid_accuracy_plot.pdf\", format=\"pdf\")\n",
    "plt.show()"
   ]
  },
  {
   "cell_type": "code",
   "execution_count": null,
   "id": "5750f906",
   "metadata": {},
   "outputs": [],
   "source": [
    "import numpy as np\n",
    "import matplotlib.pyplot as plt\n",
    "from scipy.spatial.distance import cdist\n",
    "\n",
    "\n",
    "# Experiment with increasing number of prototypes\n",
    "num_prototypes_list = range(10, 81, 10)\n",
    "avg_similarities = []\n",
    "avg_similarities1 = []\n",
    "avg_similarities2 = []\n",
    "avg_similarities3 = []\n",
    "\n",
    "for i in tqdm(range(8)):\n",
    "    mglop=list(all_protos_np[i].values())[0]\n",
    "    dmodels=list(all_protos_np[i].values())[2]\n",
    "    dknn=list(all_protos_np[i].values())[1]\n",
    "    protodash=list(all_protos_np[i].values())[3]\n",
    "    labels = cluster_by_prototypes(X_test, mglop)\n",
    "    labels1 = cluster_by_prototypes(X_test, dknn)\n",
    "    labels2 = cluster_by_prototypes(X_test, dmodels)\n",
    "    labels3 = cluster_by_prototypes(X_test, protodash)\n",
    "    avg_similarity = expected_inter_cluster_similarity(X_test, labels)\n",
    "    avg_similarity1 = expected_inter_cluster_similarity(X_test, labels1)\n",
    "    avg_similarity2 = expected_inter_cluster_similarity(X_test, labels2)\n",
    "    avg_similarity3 = expected_inter_cluster_similarity(X_test, labels3)\n",
    "    avg_similarities.append(avg_similarity)\n",
    "    avg_similarities1.append(avg_similarity1)\n",
    "    avg_similarities2.append(avg_similarity2)\n",
    "    avg_similarities3.append(avg_similarity3)\n",
    "\n",
    "# Plot the results\n",
    "plt.figure(figsize=(10, 6))\n",
    "plt.plot(num_prototypes_list, avg_similarities, marker='o', label='MGloP')\n",
    "plt.plot(num_prototypes_list, avg_similarities1, marker='x', label='DkNN')\n",
    "plt.plot(num_prototypes_list, avg_similarities2, marker='*', label='Dmodels')\n",
    "plt.plot(num_prototypes_list, avg_similarities3, marker='D', label='ProtoDash')\n",
    "plt.xlabel('Number of Prototypes')\n",
    "plt.ylabel('Expected Inter-Cluster Similarity')\n",
    "plt.title('Expected Inter-Cluster Similarity vs Number of Prototypes')\n",
    "plt.legend()\n",
    "plt.grid(True)\n",
    "plt.show()\n"
   ]
  },
  {
   "cell_type": "code",
   "execution_count": null,
   "id": "a1b4e912",
   "metadata": {},
   "outputs": [],
   "source": [
    "plt.figure(figsize=(12, 8))\n",
    "plt.plot(N_range, [item[1] for item in mglop_ev], marker='o', linestyle='-', label='MGLop Silhouette Score')\n",
    "plt.plot(N_range, [item[1] for item in dknn_ev], marker='s', linestyle='--', label='DKNN Silhouette Score')\n",
    "plt.plot(N_range, [item[1] for item in dmodels_ev], marker='D', linestyle='-.', label='DModels Silhouette Score')\n",
    "plt.plot(N_range, [item[1] for item in protodash_ev], marker='^', linestyle=':', label='Protodash Silhouette Score')\n",
    "\n",
    "plt.xlabel(\"Number of Prototypes (N)\")\n",
    "plt.ylabel(\"Silhouette Score\")\n",
    "plt.title(\"Silhouette Score vs Number of Prototypes (N) for Different Algorithms\")\n",
    "plt.legend()\n",
    "plt.grid(True)\n",
    "# plt.savefig(\"Figures/silhouette_score_plot.pdf\", format=\"pdf\")\n",
    "plt.show()"
   ]
  },
  {
   "cell_type": "code",
   "execution_count": null,
   "id": "b7ba16de",
   "metadata": {},
   "outputs": [],
   "source": [
    "elbow_method(X_test, mod_pred, range(8), X_test, mod_pred, proto=all_protos_np, k=0)"
   ]
  },
  {
   "cell_type": "code",
   "execution_count": null,
   "id": "fb23b56b",
   "metadata": {},
   "outputs": [],
   "source": [
    "list(all_protos_np[2].values())[0]"
   ]
  }
 ],
 "metadata": {
  "kernelspec": {
   "display_name": "mglop",
   "language": "python",
   "name": "python3"
  },
  "language_info": {
   "codemirror_mode": {
    "name": "ipython",
    "version": 3
   },
   "file_extension": ".py",
   "mimetype": "text/x-python",
   "name": "python",
   "nbconvert_exporter": "python",
   "pygments_lexer": "ipython3",
   "version": "3.8.20"
  }
 },
 "nbformat": 4,
 "nbformat_minor": 5
}
